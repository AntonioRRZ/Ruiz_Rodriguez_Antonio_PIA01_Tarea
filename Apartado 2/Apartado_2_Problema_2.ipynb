{
 "cells": [
  {
   "cell_type": "markdown",
   "metadata": {},
   "source": [
    "Problema 2. Frecuencia de palabras en un texto. "
   ]
  },
  {
   "cell_type": "code",
   "execution_count": null,
   "metadata": {},
   "outputs": [
    {
     "name": "stdout",
     "output_type": "stream",
     "text": [
      "\n",
      "Frecuencia de palabras (ordenadas alfabéticamente):\n",
      "a: 1\n",
      "ac: 1\n",
      "aliquet: 1\n",
      "augue: 1\n",
      "condimentum: 1\n",
      "congue: 1\n",
      "consectetur: 1\n",
      "curabitur: 1\n",
      "dictum: 1\n",
      "dignissim: 1\n",
      "duis: 1\n",
      "elit: 1\n",
      "et: 1\n",
      "etiam: 1\n",
      "eu: 1\n",
      "ex: 1\n",
      "facilisis: 2\n",
      "felis: 1\n",
      "finibus: 1\n",
      "fusce: 2\n",
      "iaculis: 1\n",
      "id: 2\n",
      "imperdiet: 1\n",
      "in: 1\n",
      "integer: 1\n",
      "lacinia: 1\n",
      "laoreet: 1\n",
      "lobortis: 1\n",
      "lorem: 1\n",
      "massa: 1\n",
      "mauris: 1\n",
      "metus: 1\n",
      "mi: 1\n",
      "molestie: 1\n",
      "nec: 1\n",
      "nisi: 1\n",
      "nisl: 1\n",
      "non: 2\n",
      "nulla: 1\n",
      "nunc: 1\n",
      "ornare: 2\n",
      "pellentesque: 1\n",
      "rhoncus: 1\n",
      "risus: 2\n",
      "rutrum: 2\n",
      "sagittis: 1\n",
      "scelerisque: 2\n",
      "sed: 1\n",
      "sem: 1\n",
      "suscipit: 2\n",
      "tempor: 1\n",
      "tortor: 1\n",
      "tristique: 1\n",
      "turpis: 1\n",
      "ultricies: 1\n",
      "ut: 2\n",
      "vel: 1\n",
      "vitae: 2\n"
     ]
    }
   ],
   "source": [
    "from typing import Dict\n",
    "import string\n",
    "\n",
    "def contar_palabras(texto: str) -> Dict[str, int]:\n",
    "    # Convertimos el texto a minúsculas y eliminamos los signos de puntuación\n",
    "    texto = texto.lower()\n",
    "    texto = texto.translate(str.maketrans('', '', string.punctuation))\n",
    "\n",
    "    # Dividimos el texto en palabras\n",
    "    palabras = texto.split()\n",
    "\n",
    "    # Contamos la frecuencia de cada palabra usando un diccionario\n",
    "    frecuencia_palabras: Dict[str, int] = {}\n",
    "    for palabra in palabras:\n",
    "        if palabra in frecuencia_palabras:\n",
    "            frecuencia_palabras[palabra] += 1\n",
    "        else:\n",
    "            frecuencia_palabras[palabra] = 1\n",
    "\n",
    "    return frecuencia_palabras\n",
    "\n",
    "# Solicitar entrada al usuario\n",
    "texto_usuario = input(\"Ingrese una frase o párrafo: \")\n",
    "\n",
    "# Obtener el conteo de palabras\n",
    "frecuencia = contar_palabras(texto_usuario)\n",
    "\n",
    "# Mostrar las palabras y sus frecuencias ordenadas alfabéticamente\n",
    "print(\"\\nFrecuencia de palabras (ordenadas alfabéticamente):\")\n",
    "for palabra in sorted(frecuencia):\n",
    "    print(f\"{palabra}: {frecuencia[palabra]}\")\n"
   ]
  }
 ],
 "metadata": {
  "kernelspec": {
   "display_name": "dev_programacion_inteligencia_artificial",
   "language": "python",
   "name": "python3"
  },
  "language_info": {
   "codemirror_mode": {
    "name": "ipython",
    "version": 3
   },
   "file_extension": ".py",
   "mimetype": "text/x-python",
   "name": "python",
   "nbconvert_exporter": "python",
   "pygments_lexer": "ipython3",
   "version": "3.12.2"
  }
 },
 "nbformat": 4,
 "nbformat_minor": 2
}
