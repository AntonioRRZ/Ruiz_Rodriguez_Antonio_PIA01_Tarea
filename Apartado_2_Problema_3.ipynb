{
 "cells": [
  {
   "cell_type": "markdown",
   "metadata": {},
   "source": [
    "Problema 3. Intersección y unión de conjuntos "
   ]
  },
  {
   "cell_type": "code",
   "execution_count": null,
   "metadata": {},
   "outputs": [],
   "source": [
    "def crear_conjunto() -> set:\n",
    "    # Pedimos al usuario números separados por espacios y convertimos a un conjunto de enteros\n",
    "    entrada = input(\"Ingrese números enteros separados por espacios: \")\n",
    "    conjunto = set(map(int, entrada.split()))\n",
    "    return conjunto\n",
    "\n",
    "# Crear los dos conjuntos\n",
    "print(\"Crear el primer conjunto:\")\n",
    "conjunto1 = crear_conjunto()\n",
    "\n",
    "print(\"\\nCrear el segundo conjunto:\")\n",
    "conjunto2 = crear_conjunto()\n",
    "\n",
    "# Calcular la intersección, unión y diferencia simétrica\n",
    "interseccion = conjunto1 & conjunto2\n",
    "union = conjunto1 | conjunto2\n",
    "diferencia_simetrica = conjunto1 ^ conjunto2\n",
    "\n",
    "# Mostrar los resultados\n",
    "print(\"\\nResultados:\")\n",
    "print(f\"Intersección: {interseccion}\")\n",
    "print(f\"Unión: {union}\")\n",
    "print(f\"Diferencia simétrica: {diferencia_simetrica}\")\n"
   ]
  }
 ],
 "metadata": {
  "kernelspec": {
   "display_name": "dev_programacion_inteligencia_artificial",
   "language": "python",
   "name": "python3"
  },
  "language_info": {
   "name": "python",
   "version": "3.12.2"
  }
 },
 "nbformat": 4,
 "nbformat_minor": 2
}
