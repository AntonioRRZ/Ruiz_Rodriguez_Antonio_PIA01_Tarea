{
 "cells": [
  {
   "cell_type": "markdown",
   "metadata": {},
   "source": [
    "o\tProblema 1. División de un lista de enteros"
   ]
  },
  {
   "cell_type": "code",
   "execution_count": 9,
   "metadata": {},
   "outputs": [
    {
     "name": "stdout",
     "output_type": "stream",
     "text": [
      "Negativos: [-6, -4, -1, 0]\n",
      "Positivos: [2, 3, 5, 8]\n"
     ]
    }
   ],
   "source": [
    "from typing import List, Tuple\n",
    "\n",
    "numeros = [3, -1, -4, 5, 0, 2, -6, 8]\n",
    "\n",
    "def separa_positivosNegativos(lista: List[int]) -> Tuple[List[int],List[int]]:\n",
    "    negativos: List[int]=[]\n",
    "    positivos: List[int]=[]\n",
    "    \n",
    "    for numero in lista:\n",
    "        if numero > 0:\n",
    "            positivos.append(numero)\n",
    "        else:\n",
    "            negativos.append(numero)\n",
    "\n",
    "\n",
    "    # Ordenamos las listas de negativos y positivos\n",
    "    negativos = sorted(negativos)\n",
    "    positivos = sorted(positivos)\n",
    "    \n",
    "    return negativos, positivos\n",
    "\n",
    "\n",
    "negativos, positivos = separa_positivosNegativos(numeros)\n",
    "print(\"Negativos:\", negativos)  # [-6, -4, -1]\n",
    "print(\"Positivos:\", positivos)  # [2, 3, 5, 8]\n",
    "\n"
   ]
  }
 ],
 "metadata": {
  "kernelspec": {
   "display_name": "dev_programacion_inteligencia_artificial",
   "language": "python",
   "name": "python3"
  },
  "language_info": {
   "codemirror_mode": {
    "name": "ipython",
    "version": 3
   },
   "file_extension": ".py",
   "mimetype": "text/x-python",
   "name": "python",
   "nbconvert_exporter": "python",
   "pygments_lexer": "ipython3",
   "version": "3.12.2"
  }
 },
 "nbformat": 4,
 "nbformat_minor": 2
}
